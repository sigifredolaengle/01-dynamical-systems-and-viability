{
 "cells": [
  {
   "cell_type": "code",
   "execution_count": 1,
   "id": "ed312fe5-4d46-47c2-b6c8-60ca6c8f52f4",
   "metadata": {
    "tags": []
   },
   "outputs": [
    {
     "name": "stdout",
     "output_type": "stream",
     "text": [
      "Collecting latex\n",
      "  Downloading latex-0.7.0.tar.gz (6.5 kB)\n",
      "  Preparing metadata (setup.py) ... \u001b[?25ldone\n",
      "\u001b[?25hCollecting tempdir (from latex)\n",
      "  Downloading tempdir-0.7.1.tar.gz (5.9 kB)\n",
      "  Preparing metadata (setup.py) ... \u001b[?25ldone\n",
      "\u001b[?25hCollecting data (from latex)\n",
      "  Downloading data-0.4.tar.gz (7.0 kB)\n",
      "  Preparing metadata (setup.py) ... \u001b[?25ldone\n",
      "\u001b[?25hRequirement already satisfied: future in /Users/sigifredolaengle/anaconda3/lib/python3.11/site-packages (from latex) (0.18.3)\n",
      "Collecting shutilwhich (from latex)\n",
      "  Downloading shutilwhich-1.1.0.tar.gz (2.3 kB)\n",
      "  Preparing metadata (setup.py) ... \u001b[?25ldone\n",
      "\u001b[?25hRequirement already satisfied: six in /Users/sigifredolaengle/anaconda3/lib/python3.11/site-packages (from data->latex) (1.16.0)\n",
      "Requirement already satisfied: decorator in /Users/sigifredolaengle/anaconda3/lib/python3.11/site-packages (from data->latex) (5.1.1)\n",
      "Collecting funcsigs (from data->latex)\n",
      "  Downloading funcsigs-1.0.2-py2.py3-none-any.whl (17 kB)\n",
      "Building wheels for collected packages: latex, data, shutilwhich, tempdir\n",
      "  Building wheel for latex (setup.py) ... \u001b[?25ldone\n",
      "\u001b[?25h  Created wheel for latex: filename=latex-0.7.0-py3-none-any.whl size=7589 sha256=18eb060ac8a8842f98b462da51d36af0e391e7089128c48209f02758f0fd70ad\n",
      "  Stored in directory: /Users/sigifredolaengle/Library/Caches/pip/wheels/e5/b3/95/f4b45b5116d4585893cdcb2ac7c07614a59fb047c754c4651a\n",
      "  Building wheel for data (setup.py) ... \u001b[?25ldone\n",
      "\u001b[?25h  Created wheel for data: filename=data-0.4-py3-none-any.whl size=7227 sha256=da284faf716cecef2be60c37a47bdb73b9d6e22d71b313c2b0bf9d981085e13b\n",
      "  Stored in directory: /Users/sigifredolaengle/Library/Caches/pip/wheels/d2/d3/10/d5fe9bc9dcb197ea289baccca92a25f2f95135235a92ca1b11\n",
      "  Building wheel for shutilwhich (setup.py) ... \u001b[?25ldone\n",
      "\u001b[?25h  Created wheel for shutilwhich: filename=shutilwhich-1.1.0-py3-none-any.whl size=2765 sha256=52f14efdecca96786f42751ae14a7ffa63cc162ca825842b796b1b49c85f1b6a\n",
      "  Stored in directory: /Users/sigifredolaengle/Library/Caches/pip/wheels/6a/49/7a/3997889a5643ddb4a1d21692c6916fd2fc482965211d9a3ca5\n",
      "  Building wheel for tempdir (setup.py) ... \u001b[?25ldone\n",
      "\u001b[?25h  Created wheel for tempdir: filename=tempdir-0.7.1-py3-none-any.whl size=2195 sha256=c3a3500ba3b724f8ac7b8220ff16fe7bdfddae5e7452426d0f3ebb021599509b\n",
      "  Stored in directory: /Users/sigifredolaengle/Library/Caches/pip/wheels/12/67/0b/519393cca63cd89cea554a371cc88a4c439c2d31804e9a9ed7\n",
      "Successfully built latex data shutilwhich tempdir\n",
      "Installing collected packages: tempdir, shutilwhich, funcsigs, data, latex\n",
      "Successfully installed data-0.4 funcsigs-1.0.2 latex-0.7.0 shutilwhich-1.1.0 tempdir-0.7.1\n"
     ]
    }
   ],
   "source": [
    "!pip install latex"
   ]
  },
  {
   "cell_type": "code",
   "execution_count": null,
   "id": "150ab81d-ec42-4fef-b290-b8d190e77b25",
   "metadata": {},
   "outputs": [],
   "source": []
  }
 ],
 "metadata": {
  "kernelspec": {
   "display_name": "Python 3 (ipykernel)",
   "language": "python",
   "name": "python3"
  },
  "language_info": {
   "codemirror_mode": {
    "name": "ipython",
    "version": 3
   },
   "file_extension": ".py",
   "mimetype": "text/x-python",
   "name": "python",
   "nbconvert_exporter": "python",
   "pygments_lexer": "ipython3",
   "version": "3.11.7"
  }
 },
 "nbformat": 4,
 "nbformat_minor": 5
}
